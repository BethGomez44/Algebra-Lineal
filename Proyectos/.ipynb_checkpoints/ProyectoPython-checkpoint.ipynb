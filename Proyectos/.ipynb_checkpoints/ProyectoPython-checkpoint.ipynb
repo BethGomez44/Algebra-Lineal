{
 "cells": [
  {
   "cell_type": "markdown",
   "id": "joined-title",
   "metadata": {},
   "source": [
    "# Ejercicios Lineal Python"
   ]
  },
  {
   "cell_type": "code",
   "execution_count": 1,
   "id": "vital-rochester",
   "metadata": {},
   "outputs": [],
   "source": [
    "#6 .- Numpy y álgebra lineal numérica\n",
    "import numpy as np"
   ]
  },
  {
   "cell_type": "code",
   "execution_count": 2,
   "id": "lasting-sequence",
   "metadata": {},
   "outputs": [],
   "source": [
    "#Definimos la matriz A\n",
    "A = np.array([[1, 0, 1, 0],[-1, 2, -1, 2],[3, 1, 3, 1],[0, -1, 0, -1]])"
   ]
  },
  {
   "cell_type": "code",
   "execution_count": 3,
   "id": "hearing-optimization",
   "metadata": {},
   "outputs": [
    {
     "name": "stdout",
     "output_type": "stream",
     "text": [
      "D = [[ 47804687500  18259765625  47804687500  18259765625]\n",
      " [-84324218750 -32208984375 -84324218750 -32208984375]\n",
      " [125154296875  47804687500 125154296875  47804687500]\n",
      " [ 18259765625   6974609375  18259765625   6974609375]]\n"
     ]
    }
   ],
   "source": [
    "#Definimos D = A^20 e imprimimos el resultado\n",
    "D = np.linalg.matrix_power(A,20)\n",
    "print(\"D = {}\".format(D))"
   ]
  },
  {
   "cell_type": "code",
   "execution_count": 4,
   "id": "interpreted-pickup",
   "metadata": {},
   "outputs": [
    {
     "name": "stdout",
     "output_type": "stream",
     "text": [
      "El det(A) es: 0.0\n",
      "El det(B) es: -37.000000000000014\n"
     ]
    }
   ],
   "source": [
    "#Definimos la matriz B\n",
    "B = np.array([[5, 4], [3, -5]])\n",
    "\n",
    "print(\"El det(A) es: {}\".format(np.linalg.det(A)))\n",
    "print(\"El det(B) es: {}\".format(np.linalg.det(B)))\n",
    "\n",
    "#Dado que el determinante de A es cero, eso quiere decir que la matriz no es\n",
    "#invertible, pero el determinante de B es distinto de cero, por lo que B es una matriz \n",
    "#invertible y su determinante es -37."
   ]
  },
  {
   "cell_type": "code",
   "execution_count": 5,
   "id": "amended-jason",
   "metadata": {},
   "outputs": [],
   "source": [
    "# 7.- Sympy y álgebra lineal simbólica\n",
    "import sympy as sp"
   ]
  },
  {
   "cell_type": "code",
   "execution_count": 6,
   "id": "tender-lebanon",
   "metadata": {},
   "outputs": [],
   "source": [
    "#Definimos las matrices A y B con SymPy\n",
    "A = sp.Matrix([[1, 0, 1, 0],[-1, 2, -1, 2],\n",
    "               [3, 1, 3, 1],[0, -1, 0, -1]])\n",
    "B = sp.Matrix([[5,4],[3,-5]])"
   ]
  },
  {
   "cell_type": "code",
   "execution_count": 7,
   "id": "reduced-karaoke",
   "metadata": {},
   "outputs": [
    {
     "name": "stdout",
     "output_type": "stream",
     "text": [
      "El det(A) es: 0\n",
      "El det(B) es: -37\n"
     ]
    }
   ],
   "source": [
    "# Calculamos nuevamente los determinantes de las matrices, pero\n",
    "# ahora con SymPy\n",
    "print(\"El det(A) es: {}\".format(A.det()))\n",
    "print(\"El det(B) es: {}\".format(B.det()))"
   ]
  },
  {
   "cell_type": "code",
   "execution_count": 8,
   "id": "passive-sussex",
   "metadata": {},
   "outputs": [
    {
     "name": "stdout",
     "output_type": "stream",
     "text": [
      "Forma escalonada reducida de A \n",
      "(Matrix([\n",
      "[1, 0, 1, 0],\n",
      "[0, 1, 0, 1],\n",
      "[0, 0, 0, 0],\n",
      "[0, 0, 0, 0]]), (0, 1))\n",
      "Ya que A tiene dos variables pivote, el rango(A) = 2\n"
     ]
    }
   ],
   "source": [
    "print(\"Forma escalonada reducida de A \\n{}\".format(A.rref()))\n",
    "print(\"Ya que A tiene dos variables pivote, el rango(A) = 2\")"
   ]
  },
  {
   "cell_type": "code",
   "execution_count": 9,
   "id": "level-cancellation",
   "metadata": {},
   "outputs": [],
   "source": [
    "# 8.- Implementando regla de Cramer\n",
    "\n",
    "#Tenemos el siguiente sistema de ecuaciones:\n",
    "#\n",
    "# -2x_1 + 6x_2 + 6x_3 + 8x_4 - 4x_5 = 6\n",
    "# 7x_1 - 2x_2 + 6x_3 + 4x_4 + 3x_5 = 14\n",
    "# -4x_1 + 7x_2 + 5x_3 + 5x_4 + 6x_5 = 36\n",
    "# 5x_1 + 3x_2 - 4x_3 + 8x_4 + 2x_5 = 40\n",
    "# 6x_1 + 8x_2 + 6x_3 + 1x_4 - 9x_5 = 79\n",
    "\n",
    "#Ahora, sean la matriz C y las matrices C1,C2,C3,C4,C5\n",
    "C = sp.Matrix([[-2, 6, 6, 8, -4],\n",
    "               [7, -2, 6, 4, 3],\n",
    "               [-4, 7, 5, 5, 6],\n",
    "               [5, 3, -4, 8, 2],\n",
    "               [6, 8, 6, 1, 9]])\n",
    "\n",
    "C1 = sp.Matrix([-2, 7, -4, 5, 6])\n",
    "C2 = sp.Matrix([6, -2, 7, 3, 8])\n",
    "C3 = sp.Matrix([6, 6, 5, -4, 6])\n",
    "C4 = sp.Matrix([8, 4, 5, 8, 1])\n",
    "C5 = sp.Matrix([-4, 3, 6, 2, 9])\n",
    "\n",
    "# Definimos además la variable b que guarda la matriz de 1 x n\n",
    "b = sp.Matrix([6, 14, 36, 40, 79])\n",
    "\n",
    "#Y para ahorrarnos código, definimos el det(C) en una variable\n",
    "detC = C.det()"
   ]
  },
  {
   "cell_type": "code",
   "execution_count": 10,
   "id": "complex-cricket",
   "metadata": {},
   "outputs": [
    {
     "name": "stdout",
     "output_type": "stream",
     "text": [
      "La solución x1 es: = 3\n",
      "La solución x2 es: = 5\n",
      "La solución x3 es: = -1\n",
      "La solución x4 es: = 0\n",
      "La solución x5 es: = 3\n"
     ]
    }
   ],
   "source": [
    "# Calculamos las soluciones x1,x2,x3,x4,x5, para facilidad\n",
    "# de impresion, las definimy las mostramos\n",
    "\n",
    "# Para x1\n",
    "S = C.col_insert(0, b)\n",
    "S.col_del(1)\n",
    "\n",
    "x1 = S.det() / detC\n",
    "print(\"La solución x1 es: = {}\".format(x1))\n",
    "\n",
    "# Para x2\n",
    "S = C.col_insert(1, b)\n",
    "S.col_del(2)\n",
    "\n",
    "x2 = S.det() / detC\n",
    "print(\"La solución x2 es: = {}\".format(x2))\n",
    "\n",
    "# Para x3\n",
    "S = C.col_insert(2, b)\n",
    "S.col_del(3)\n",
    "\n",
    "x3 = S.det() / detC\n",
    "print(\"La solución x3 es: = {}\".format(x3))\n",
    "\n",
    "# Para x4\n",
    "S = C.col_insert(3, b)\n",
    "S.col_del(4)\n",
    "\n",
    "x4 = S.det() / detC\n",
    "print(\"La solución x4 es: = {}\".format(x4))\n",
    "\n",
    "# Para x5\n",
    "S = C.col_insert(4, b)\n",
    "S.col_del(5)\n",
    "\n",
    "x5 = S.det() / detC\n",
    "print(\"La solución x5 es: = {}\".format(x5))"
   ]
  },
  {
   "cell_type": "code",
   "execution_count": 11,
   "id": "about-swaziland",
   "metadata": {},
   "outputs": [
    {
     "name": "stdout",
     "output_type": "stream",
     "text": [
      "El término 0 de la sucesión de Tribonacci es 0\n",
      "El término 1 de la sucesión de Tribonacci es 0\n",
      "El término 2 de la sucesión de Tribonacci es 1\n",
      "El término 3 de la sucesión de Tribonacci es 1\n",
      "El término 4 de la sucesión de Tribonacci es 2\n",
      "El término 5 de la sucesión de Tribonacci es 4\n",
      "El término 6 de la sucesión de Tribonacci es 7\n",
      "El término 7 de la sucesión de Tribonacci es 13\n",
      "El término 8 de la sucesión de Tribonacci es 24\n",
      "El término 9 de la sucesión de Tribonacci es 44\n",
      "El término 10 de la sucesión de Tribonacci es 81\n",
      "El término 11 de la sucesión de Tribonacci es 149\n",
      "El término 12 de la sucesión de Tribonacci es 274\n",
      "El término 13 de la sucesión de Tribonacci es 504\n",
      "El término 14 de la sucesión de Tribonacci es 927\n",
      " \n",
      "T a la 0 potencia es: \n",
      "Matrix([[0, 0, 1], [1, 0, 1], [0, 1, 1]])\n",
      "\n",
      "T a la 1 potencia es: \n",
      "Matrix([[0, 1, 1], [0, 1, 2], [1, 1, 2]])\n",
      "\n",
      "T a la 2 potencia es: \n",
      "Matrix([[1, 1, 2], [1, 2, 3], [1, 2, 4]])\n",
      "\n",
      "T a la 3 potencia es: \n",
      "Matrix([[1, 2, 4], [2, 3, 6], [2, 4, 7]])\n",
      "\n",
      "T a la 4 potencia es: \n",
      "Matrix([[2, 4, 7], [3, 6, 11], [4, 7, 13]])\n",
      "\n",
      "T a la 5 potencia es: \n",
      "Matrix([[4, 7, 13], [6, 11, 20], [7, 13, 24]])\n",
      "\n",
      "T a la 6 potencia es: \n",
      "Matrix([[7, 13, 24], [11, 20, 37], [13, 24, 44]])\n",
      "\n",
      "T a la 7 potencia es: \n",
      "Matrix([[13, 24, 44], [20, 37, 68], [24, 44, 81]])\n",
      "\n"
     ]
    }
   ],
   "source": [
    "# 9.- Python y conjeturas matemáticas\n",
    "\n",
    "# Define términos iniciales de Tribonacci\n",
    "a,b,c=0,0,1\n",
    "# Se van a mostrar 15 términos\n",
    "for j in range(15):\n",
    "    print(\"El término {} de la sucesión de Tribonacci es {}\".format(j,a))\n",
    "    # Ahora cambiamos a,b,c de acuerdo a la recursión de Tribonacci\n",
    "    a,b,c=b,c,a+b+c\n",
    "    \n",
    "# Definimos la matriz T de la siguiente forma\n",
    "\n",
    "T = sp.Matrix([[0,0,1], [1,0,1],[0,1,1]])\n",
    "\n",
    "# Usamos un ciclo for para calcular las potencias de T de 1 a 7\n",
    "\n",
    "print(\" \")\n",
    "for i in range(8):\n",
    "    print(\"T a la {} potencia es: \\n{}\\n\".format(i, (T**(i+1))))"
   ]
  },
  {
   "cell_type": "code",
   "execution_count": 12,
   "id": "worldwide-panama",
   "metadata": {},
   "outputs": [],
   "source": [
    "# Conjetura:\n",
    "# Podemos notar que la sucesión de los números de Tribonacci comienza\n",
    "# como 0, 0, 1 y cada número siguiente es el resultado de la suma de\n",
    "# los 3 antecesores.\n",
    "# \n",
    "# Además, tenemos que los primeros términos de esta sucesión son:\n",
    "# 0, 0, 1, 1, 2, 4, 7, 13, 24, 44, 81...\n",
    "#\n",
    "# Observamos que la primera fila de cada matriz es parte de la\n",
    "# sucesión, y en la siguiente potencia, en el último término\n",
    "# de la primera fila, aparece el siguiente en la sucesión de Tribonacci\n",
    "#\n",
    "# Además, también notamos que el elemento a_33 en la matriz, \n",
    "# es siguiente en la sucesión después del último elemento\n",
    "# de la primera fila.\n",
    "#\n",
    "# Heidi Lizbeth Gómez de la Torre 317266245"
   ]
  },
  {
   "cell_type": "code",
   "execution_count": null,
   "id": "understood-citation",
   "metadata": {},
   "outputs": [],
   "source": []
  }
 ],
 "metadata": {
  "kernelspec": {
   "display_name": "Python 3",
   "language": "python",
   "name": "python3"
  },
  "language_info": {
   "codemirror_mode": {
    "name": "ipython",
    "version": 3
   },
   "file_extension": ".py",
   "mimetype": "text/x-python",
   "name": "python",
   "nbconvert_exporter": "python",
   "pygments_lexer": "ipython3",
   "version": "3.8.5"
  }
 },
 "nbformat": 4,
 "nbformat_minor": 5
}
