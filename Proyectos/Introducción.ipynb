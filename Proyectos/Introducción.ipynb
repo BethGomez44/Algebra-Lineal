{
 "cells": [
  {
   "cell_type": "markdown",
   "id": "invalid-rings",
   "metadata": {},
   "source": [
    "# La libreta de Jupyter y \"Hola mundo\""
   ]
  },
  {
   "cell_type": "markdown",
   "id": "differential-uganda",
   "metadata": {},
   "source": [
    "Imprimimos el primer \"Hola mundo\" con python:"
   ]
  },
  {
   "cell_type": "code",
   "execution_count": 1,
   "id": "biological-exhaust",
   "metadata": {},
   "outputs": [
    {
     "name": "stdout",
     "output_type": "stream",
     "text": [
      "¡Hola mundo!\n"
     ]
    }
   ],
   "source": [
    "print(\"¡Hola mundo!\")"
   ]
  },
  {
   "cell_type": "markdown",
   "id": "composite-helmet",
   "metadata": {},
   "source": [
    "Ahora, las primeras operaciones:"
   ]
  },
  {
   "cell_type": "code",
   "execution_count": 2,
   "id": "worst-juvenile",
   "metadata": {},
   "outputs": [
    {
     "name": "stdout",
     "output_type": "stream",
     "text": [
      "7 12\n"
     ]
    }
   ],
   "source": [
    "x=3\n",
    "y=4\n",
    "print(x+y,x*y)"
   ]
  },
  {
   "cell_type": "markdown",
   "id": "surgical-membrane",
   "metadata": {},
   "source": [
    "Donde el primer número es la suma de x,y y el segundo la múltiplicación"
   ]
  },
  {
   "cell_type": "markdown",
   "id": "constitutional-joseph",
   "metadata": {},
   "source": [
    "# Algebra Lineal en Python"
   ]
  },
  {
   "cell_type": "markdown",
   "id": "stone-storage",
   "metadata": {},
   "source": [
    "Importamos nuestro primer paquete"
   ]
  },
  {
   "cell_type": "code",
   "execution_count": 3,
   "id": "scientific-pharmacy",
   "metadata": {},
   "outputs": [],
   "source": [
    "import numpy as np"
   ]
  },
  {
   "cell_type": "markdown",
   "id": "opposite-moderator",
   "metadata": {},
   "source": [
    "Definimos dos matrices y las mostramos"
   ]
  },
  {
   "cell_type": "code",
   "execution_count": 4,
   "id": "veterinary-emergency",
   "metadata": {},
   "outputs": [],
   "source": [
    "A=np.array([[1,0,3],[0,1,-1]])\n",
    "B=np.array([[4,1,0,-1],[5,-1,-8,0],[0,0,1,-2]])"
   ]
  },
  {
   "cell_type": "code",
   "execution_count": 5,
   "id": "seeing-spell",
   "metadata": {},
   "outputs": [
    {
     "name": "stdout",
     "output_type": "stream",
     "text": [
      "[[ 1  0  3]\n",
      " [ 0  1 -1]]\n",
      "[[ 4  1  0 -1]\n",
      " [ 5 -1 -8  0]\n",
      " [ 0  0  1 -2]]\n"
     ]
    }
   ],
   "source": [
    "print(A)\n",
    "print(B)"
   ]
  },
  {
   "cell_type": "code",
   "execution_count": 6,
   "id": "presidential-learning",
   "metadata": {},
   "outputs": [
    {
     "name": "stdout",
     "output_type": "stream",
     "text": [
      "La multiplicación de \n",
      "[[ 1  0  3]\n",
      " [ 0  1 -1]]\n",
      " y \n",
      "[[ 4  1  0 -1]\n",
      " [ 5 -1 -8  0]\n",
      " [ 0  0  1 -2]]\n",
      " es la matriz \n",
      "[[ 4  1  3 -7]\n",
      " [ 5 -1 -9  2]]\n"
     ]
    }
   ],
   "source": [
    "C = np.matmul(A,B)\n",
    "print(\"La multiplicación de \\n{}\\n y \\n{}\\n es la matriz \\n{}\".format(A,B,C))"
   ]
  },
  {
   "cell_type": "code",
   "execution_count": 7,
   "id": "hollow-apparel",
   "metadata": {},
   "outputs": [],
   "source": [
    "# Heidi Lizbeth Gómez de la Torre 317266245"
   ]
  },
  {
   "cell_type": "code",
   "execution_count": null,
   "id": "funky-festival",
   "metadata": {},
   "outputs": [],
   "source": []
  }
 ],
 "metadata": {
  "kernelspec": {
   "display_name": "Python 3",
   "language": "python",
   "name": "python3"
  },
  "language_info": {
   "codemirror_mode": {
    "name": "ipython",
    "version": 3
   },
   "file_extension": ".py",
   "mimetype": "text/x-python",
   "name": "python",
   "nbconvert_exporter": "python",
   "pygments_lexer": "ipython3",
   "version": "3.8.5"
  }
 },
 "nbformat": 4,
 "nbformat_minor": 5
}
